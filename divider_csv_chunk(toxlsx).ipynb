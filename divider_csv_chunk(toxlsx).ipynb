{
 "cells": [
  {
   "cell_type": "code",
   "execution_count": 1,
   "id": "2e3a67cc",
   "metadata": {},
   "outputs": [],
   "source": [
    "import pandas as pd\n",
    "\n",
    "chunk_size = 10\n",
    "batch_no = 1\n",
    "\n",
    "for chunk in pd.read_csv('merged_file2.csv', chunksize=chunk_size):\n",
    "    pd.ExcelWriter('input'+'_'+str(batch_no)+'.xlsx')\n",
    "    chunk.to_excel('input'+'_'+str(batch_no)+'.xlsx', index=False)\n",
    "    batch_no += 1"
   ]
  }
 ],
 "metadata": {
  "kernelspec": {
   "display_name": "Python 3 (ipykernel)",
   "language": "python",
   "name": "python3"
  },
  "language_info": {
   "codemirror_mode": {
    "name": "ipython",
    "version": 3
   },
   "file_extension": ".py",
   "mimetype": "text/x-python",
   "name": "python",
   "nbconvert_exporter": "python",
   "pygments_lexer": "ipython3",
   "version": "3.8.10"
  }
 },
 "nbformat": 4,
 "nbformat_minor": 5
}
