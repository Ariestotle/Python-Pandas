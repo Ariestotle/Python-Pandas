{
 "cells": [
  {
   "cell_type": "code",
   "execution_count": 8,
   "id": "2e3a67cc",
   "metadata": {},
   "outputs": [],
   "source": [
    "import pandas as pd\n",
    "import numpy as np\n",
    "\n",
    "df = pd.read_excel(\"2021-09-09 WoodRoc (Additional Information) - Import.xlsx\")\n",
    "# for chunk in np.split(df, len(df) // chunksize):\n",
    "# # for chunk in pd.read_excel('2021-09-09 WoodRoc (Additional Information) - Import.xlsx', chunksize=chunk_size):\n",
    "#     pd.ExcelWriter('2021-09-09 WoodRoc (Additional Information) - Import part'+'_'+str(batch_no)+'.xlsx')\n",
    "#     chunk.to_excel('2021-09-09 WoodRoc (Additional Information) - Import part'+'_'+str(batch_no)+'.xlsx', index=False)\n",
    "#     batch_no += 1"
   ]
  },
  {
   "cell_type": "code",
   "execution_count": 13,
   "id": "06628814",
   "metadata": {},
   "outputs": [],
   "source": [
    "df.to_csv(\"2021-09-09 WoodRoc (Additional Information) - Import.csv\", index=False)"
   ]
  },
  {
   "cell_type": "code",
   "execution_count": 14,
   "id": "55aad1c4",
   "metadata": {
    "scrolled": false
   },
   "outputs": [],
   "source": [
    "chunk_size = 50000\n",
    "batch_no = 1\n",
    "\n",
    "for chunk in pd.read_csv('2021-09-09 WoodRoc (Additional Information) - Import.csv', chunksize=chunk_size):\n",
    "    pd.ExcelWriter('2021-09-09 WoodRoc (Additional Information) - Import part'+'_'+str(batch_no)+'.xlsx')\n",
    "    chunk.to_excel('2021-09-09 WoodRoc (Additional Information) - Import part'+'_'+str(batch_no)+'.xlsx', index=False)\n",
    "    batch_no += 1"
   ]
  }
 ],
 "metadata": {
  "kernelspec": {
   "display_name": "Python 3 (ipykernel)",
   "language": "python",
   "name": "python3"
  },
  "language_info": {
   "codemirror_mode": {
    "name": "ipython",
    "version": 3
   },
   "file_extension": ".py",
   "mimetype": "text/x-python",
   "name": "python",
   "nbconvert_exporter": "python",
   "pygments_lexer": "ipython3",
   "version": "3.8.10"
  }
 },
 "nbformat": 4,
 "nbformat_minor": 5
}
