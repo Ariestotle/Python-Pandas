{
 "cells": [
  {
   "cell_type": "code",
   "execution_count": 2,
   "id": "4717145f",
   "metadata": {},
   "outputs": [],
   "source": [
    "import pandas as pd\n",
    "import numpy as np\n",
    "  \n",
    "  \n",
    "# Reading the csv file\n",
    "f1 = pd.read_csv('37021.csv', low_memory=False)\n",
    "f2 = pd.read_csv('37087.csv', low_memory=False)\n",
    "f3 = pd.read_csv('37089.csv', low_memory=False)\n",
    "  \n",
    "# saving xlsx file\n",
    "convert1 = pd.ExcelWriter('37021.xlsx')\n",
    "convert2 = pd.ExcelWriter('37087.xlsx')\n",
    "convert3 = pd.ExcelWriter('37089.xlsx')\n",
    "\n",
    "f1.to_excel(convert1, index = False)\n",
    "f2.to_excel(convert1, index = False)\n",
    "f3.to_excel(convert1, index = False)\n",
    "  \n",
    "convert1.save()\n",
    "convert2.save()\n",
    "convert3.save()"
   ]
  }
 ],
 "metadata": {
  "kernelspec": {
   "display_name": "Python 3 (ipykernel)",
   "language": "python",
   "name": "python3"
  },
  "language_info": {
   "codemirror_mode": {
    "name": "ipython",
    "version": 3
   },
   "file_extension": ".py",
   "mimetype": "text/x-python",
   "name": "python",
   "nbconvert_exporter": "python",
   "pygments_lexer": "ipython3",
   "version": "3.8.10"
  }
 },
 "nbformat": 4,
 "nbformat_minor": 5
}
