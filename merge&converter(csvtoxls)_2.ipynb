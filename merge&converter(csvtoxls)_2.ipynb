{
 "cells": [
  {
   "cell_type": "code",
   "execution_count": 5,
   "id": "9a7acaeb",
   "metadata": {},
   "outputs": [
    {
     "name": "stdout",
     "output_type": "stream",
     "text": [
      "Max Rows to Display = 2\n"
     ]
    },
    {
     "data": {
      "text/plain": [
       "['input_1.csv', 'input_2.csv', 'input_3.csv', 'input_4.csv']"
      ]
     },
     "execution_count": 5,
     "metadata": {},
     "output_type": "execute_result"
    }
   ],
   "source": [
    "import pandas as pd\n",
    "import numpy as np\n",
    "from glob import glob\n",
    "\n",
    "max_rows = pd.options.display.max_rows = 2\n",
    "print(\"Max Rows to Display\"+\" \"+\"=\"+\" \"+str(max_rows)) #for my lightweight display only\n",
    "stock_files = sorted(glob('input_*.csv'))\n",
    "stock_files"
   ]
  },
  {
   "cell_type": "code",
   "execution_count": 6,
   "id": "b79afe9b",
   "metadata": {
    "scrolled": false
   },
   "outputs": [
    {
     "name": "stdout",
     "output_type": "stream",
     "text": [
      "       UID           Agent Name                  TL List     Sched        OFF  \\\n",
      "0   330869  Lielanie Matamorosa  Mirasol Fontanilla   A1  0.250000    Sat-Sun   \n",
      "..     ...                  ...                 ...  ...       ...        ...   \n",
      "34  351952    Ma Senica Dichoso      Ryan Catchuela  A36  0.541667  Sun - Mon   \n",
      "\n",
      "    Sun           Mon           Tue           Wed           Thu           Fri  \\\n",
      "0   OFF  18:00 - 3:00  18:00 - 3:00  18:00 - 3:00  18:00 - 3:00  18:00 - 3:00   \n",
      "..  ...           ...           ...           ...           ...           ...   \n",
      "34  NaN           OFF  1:00 - 10:00  1:00 - 10:00  1:00 - 10:00  1:00 - 10:00   \n",
      "\n",
      "             Sat Sun.1  \n",
      "0            OFF   NaN  \n",
      "..           ...   ...  \n",
      "34  1:00 - 10:00   OFF  \n",
      "\n",
      "[35 rows x 14 columns]\n"
     ]
    }
   ],
   "source": [
    "df = pd.concat((pd.read_csv(file, low_memory=False)\n",
    "         for file in stock_files), ignore_index = True)\n",
    "print(df)"
   ]
  },
  {
   "cell_type": "code",
   "execution_count": 7,
   "id": "af65284f",
   "metadata": {
    "scrolled": true
   },
   "outputs": [],
   "source": [
    "convert = pd.ExcelWriter('merged.xlsx')\n",
    "df.to_excel(convert, index=False)\n",
    "\n",
    "\n",
    "convert.save()"
   ]
  }
 ],
 "metadata": {
  "kernelspec": {
   "display_name": "Python 3 (ipykernel)",
   "language": "python",
   "name": "python3"
  },
  "language_info": {
   "codemirror_mode": {
    "name": "ipython",
    "version": 3
   },
   "file_extension": ".py",
   "mimetype": "text/x-python",
   "name": "python",
   "nbconvert_exporter": "python",
   "pygments_lexer": "ipython3",
   "version": "3.8.10"
  }
 },
 "nbformat": 4,
 "nbformat_minor": 5
}
