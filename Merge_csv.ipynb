{
 "cells": [
  {
   "cell_type": "code",
   "execution_count": 6,
   "id": "8babcf0d",
   "metadata": {},
   "outputs": [
    {
     "name": "stdout",
     "output_type": "stream",
     "text": [
      "Max Rows to Display = 2\n"
     ]
    },
    {
     "data": {
      "text/plain": [
       "['raw_1.csv', 'raw_2.csv', 'raw_3.csv']"
      ]
     },
     "execution_count": 6,
     "metadata": {},
     "output_type": "execute_result"
    }
   ],
   "source": [
    "import pandas as pd\n",
    "from glob import glob\n",
    "\n",
    "max_rows = pd.options.display.max_rows = 2\n",
    "print(\"Max Rows to Display\"+\" \"+\"=\"+\" \"+str(max_rows)) #for my lightweight display only\n",
    "stock_files = sorted(glob('raw_*.csv'))\n",
    "stock_files"
   ]
  },
  {
   "cell_type": "code",
   "execution_count": 7,
   "id": "62d318e3",
   "metadata": {},
   "outputs": [
    {
     "name": "stdout",
     "output_type": "stream",
     "text": [
      "       UID           Agent Name                  TL List     Sched        OFF  \\\n",
      "0   330869  Lielanie Matamorosa  Mirasol Fontanilla   A1  0.250000    Sat-Sun   \n",
      "..     ...                  ...                 ...  ...       ...        ...   \n",
      "34  351952    Ma Senica Dichoso      Ryan Catchuela  A36  0.541667  Sun - Mon   \n",
      "\n",
      "    Sun           Mon           Tue           Wed           Thu           Fri  \\\n",
      "0   OFF  18:00 - 3:00  18:00 - 3:00  18:00 - 3:00  18:00 - 3:00  18:00 - 3:00   \n",
      "..  ...           ...           ...           ...           ...           ...   \n",
      "34  NaN           OFF  1:00 - 10:00  1:00 - 10:00  1:00 - 10:00  1:00 - 10:00   \n",
      "\n",
      "             Sat Sun.1  \n",
      "0            OFF   NaN  \n",
      "..           ...   ...  \n",
      "34  1:00 - 10:00   OFF  \n",
      "\n",
      "[35 rows x 14 columns]\n"
     ]
    }
   ],
   "source": [
    "df = pd.concat((pd.read_csv(file, low_memory=False)\n",
    "         for file in stock_files), ignore_index = True)\n",
    "print(df)"
   ]
  },
  {
   "cell_type": "code",
   "execution_count": 8,
   "id": "8578a47e",
   "metadata": {},
   "outputs": [],
   "source": [
    "df.to_csv('merged_file.csv', index=False)"
   ]
  }
 ],
 "metadata": {
  "kernelspec": {
   "display_name": "Python 3 (ipykernel)",
   "language": "python",
   "name": "python3"
  },
  "language_info": {
   "codemirror_mode": {
    "name": "ipython",
    "version": 3
   },
   "file_extension": ".py",
   "mimetype": "text/x-python",
   "name": "python",
   "nbconvert_exporter": "python",
   "pygments_lexer": "ipython3",
   "version": "3.8.10"
  }
 },
 "nbformat": 4,
 "nbformat_minor": 5
}
